{
  "cells": [
    {
      "cell_type": "code",
      "execution_count": null,
      "metadata": {
        "id": "gFAcI_zP3t64"
      },
      "outputs": [],
      "source": [
        "import pandas as pd\n",
        "import numpy as np\n"
      ]
    },
    {
      "cell_type": "code",
      "execution_count": null,
      "metadata": {
        "colab": {
          "base_uri": "https://localhost:8080/"
        },
        "id": "KmiFg9Ctcepu",
        "outputId": "a979b5f9-9c13-4ec5-e518-34a502b6953f"
      },
      "outputs": [
        {
          "output_type": "stream",
          "name": "stdout",
          "text": [
            "Drive already mounted at /content/gdrive; to attempt to forcibly remount, call drive.mount(\"/content/gdrive\", force_remount=True).\n"
          ]
        }
      ],
      "source": [
        "from google.colab import drive\n",
        "drive.mount('/content/gdrive')"
      ]
    },
    {
      "cell_type": "code",
      "execution_count": null,
      "metadata": {
        "id": "e8ESnuyacym0"
      },
      "outputs": [],
      "source": [
        "hotels = pd.read_csv('/content/gdrive/MyDrive/tourism_dataset_south_india.csv')"
      ]
    },
    {
      "cell_type": "code",
      "execution_count": null,
      "metadata": {
        "id": "SGlCKiNIrpOZ"
      },
      "outputs": [],
      "source": [
        "# User profiling\n",
        "user_profiles = {}\n",
        "\n",
        "def create_profile():\n",
        "    name = input(\"Enter your name: \")\n",
        "    preferences = {\n",
        "        'destination': input(\"Enter your preferred destination: \"),\n",
        "        'budget': float(input(\"Enter your budget: \")),\n",
        "        'rating': float(input(\"Enter your preferred rating: \")),\n",
        "        'amenities': input(\"Enter your preferred amenities (separate by comma): \").split(',')\n",
        "    }\n",
        "    user_profiles[name] = preferences\n",
        "    print(\"User profile created:\")\n",
        "    print(user_profiles)"
      ]
    },
    {
      "cell_type": "code",
      "execution_count": null,
      "metadata": {
        "id": "D8aGkRSxn099"
      },
      "outputs": [],
      "source": [
        "# Define a function to get hotel recommendations\n",
        "def get_recommendations(destination, budget, rating, amenities):\n",
        "    # Filter hotels based on destination, budget, and rating\n",
        "    filtered_hotels = hotels[(hotels['destination'] == destination) & (hotels['price'] <= budget) & (hotels['rating'] >= rating)]\n",
        "\n",
        "    # Find hotels with similar amenities\n",
        "    if len(amenities) >= 3:\n",
        "        similar_hotels = filtered_hotels[\n",
        "            filtered_hotels['amenities'].str.contains(amenities[0]) |\n",
        "            filtered_hotels['amenities'].str.contains(amenities[1]) |\n",
        "            filtered_hotels['amenities'].str.contains(amenities[2])\n",
        "        ]\n",
        "    elif len(amenities) == 2:\n",
        "        similar_hotels = filtered_hotels[\n",
        "            filtered_hotels['amenities'].str.contains(amenities[0]) |\n",
        "            filtered_hotels['amenities'].str.contains(amenities[1])\n",
        "        ]\n",
        "    elif len(amenities) == 1:\n",
        "        similar_hotels = filtered_hotels[\n",
        "            filtered_hotels['amenities'].str.contains(amenities[0])\n",
        "        ]\n",
        "    else:\n",
        "        similar_hotels = filtered_hotels\n",
        "\n",
        "    # Return hotel details\n",
        "    return similar_hotels[['hotel_name', 'price', 'rating', 'amenities']]"
      ]
    },
    {
      "cell_type": "code",
      "execution_count": null,
      "metadata": {
        "id": "7AvCFD1BrufV"
      },
      "outputs": [],
      "source": [
        "def get_personalized_recommendations(name):\n",
        "    if name in user_profiles:\n",
        "        preferences = user_profiles[name]\n",
        "        recommendations = get_recommendations(preferences['destination'], preferences['budget'], preferences['rating'], preferences['amenities'])\n",
        "        return {\n",
        "            'profile': preferences,\n",
        "            'recommendations': recommendations\n",
        "        }\n",
        "    else:\n",
        "        return None"
      ]
    },
    {
      "cell_type": "code",
      "execution_count": null,
      "metadata": {
        "colab": {
          "base_uri": "https://localhost:8080/"
        },
        "id": "rmr7jgdxc6Yz",
        "outputId": "4a9cafe2-196e-445e-9510-836034f26206"
      },
      "outputs": [
        {
          "output_type": "stream",
          "name": "stdout",
          "text": [
            "1. Create profile\n",
            "2. Get personalized recommendations\n",
            "3. Get counterfactual recommendations\n",
            "4. Exit\n",
            "Enter your choice: 1\n",
            "Enter your name: Meghna\n",
            "Enter your preferred destination: Madurai\n",
            "Enter your budget: 500\n",
            "Enter your preferred rating: 4\n",
            "Enter your preferred amenities (separate by comma): restaurant, fitness center\n",
            "User profile created:\n",
            "{'Meghna': {'destination': 'Madurai', 'budget': 500.0, 'rating': 4.0, 'amenities': ['restaurant', ' fitness center']}}\n",
            "1. Create profile\n",
            "2. Get personalized recommendations\n",
            "3. Get counterfactual recommendations\n",
            "4. Exit\n",
            "Enter your choice: 2\n",
            "Enter your name: Meghna\n",
            "Recommendations for Meghna\n",
            "Based on your profile:\n",
            "Name: Meghna\n",
            "Profile: {'destination': 'Madurai', 'budget': 500.0, 'rating': 4.0, 'amenities': ['restaurant', ' fitness center']}\n",
            "Recommendations:\n",
            "     hotel_name  price  rating                  amenities\n",
            "6  Ocean Breeze    480     4.8  fitness center,restaurant\n",
            "Did you find the hotel you're looking for? (yes/no): yes\n",
            "Great! We're glad we could help.\n",
            "1. Create profile\n",
            "2. Get personalized recommendations\n",
            "3. Get counterfactual recommendations\n",
            "4. Exit\n",
            "Enter your choice: 3\n",
            "Enter your destination: Madurai\n",
            "Enter your budget: 500\n",
            "Enter your preferred rating: 4\n",
            "Choose your preferred amenities (separate by comma):\n",
            "pool\n",
            "fitness center\n",
            "free wifi\n",
            "restaurant\n",
            "bar\n",
            "spa\n",
            "free breakfast\n",
            "Enter your choice (e.g., pool, fitness center, free wifi, restaurant, bar, spa, free breakfast): restaurant\n",
            "Recommendations:\n",
            "     hotel_name  price  rating                  amenities\n",
            "6  Ocean Breeze    480     4.8  fitness center,restaurant\n",
            "\n",
            "Counterfactual Recommendations (What-if scenarios):\n",
            "   destination        hotel_name  price  rating  \\\n",
            "10     Madurai  The Royal Suites    630     4.8   \n",
            "\n",
            "                                            amenities  \n",
            "10  pool,fitness center,free breakfast,free wifi,r...  \n",
            "1. Create profile\n",
            "2. Get personalized recommendations\n",
            "3. Get counterfactual recommendations\n",
            "4. Exit\n",
            "Enter your choice: 4\n",
            "Exiting program. Goodbye!\n"
          ]
        }
      ],
      "source": [
        "# Main program\n",
        "while True:\n",
        "    print(\"1. Create profile\")\n",
        "    print(\"2. Get personalized recommendations\")\n",
        "    print(\"3. Get counterfactual recommendations\")\n",
        "    print(\"4. Exit\")\n",
        "    choice = input(\"Enter your choice: \")\n",
        "    if choice == '1':\n",
        "        create_profile()\n",
        "    elif choice == '2':\n",
        "      name = input(\"Enter your name: \")\n",
        "      recommendations = get_personalized_recommendations(name)\n",
        "      if recommendations is not None:\n",
        "          print(\"Recommendations for\", name)\n",
        "          print(\"Based on your profile:\")\n",
        "          print(\"Name:\", name)\n",
        "          # Assuming 'get_personalized_recommendations' returns a dictionary with 'recommendations' and 'profile' keys\n",
        "          print(\"Profile:\", recommendations['profile'])\n",
        "          print(\"Recommendations:\")\n",
        "          print(recommendations['recommendations'])\n",
        "          response = input(\"Did you find the hotel you're looking for? (yes/no): \")\n",
        "          if response.lower() == 'yes':\n",
        "              print(\"Great! We're glad we could help.\")\n",
        "          else:\n",
        "              print(\"Sorry to hear that. We'll keep working to improve our recommendations.\")\n",
        "      else:\n",
        "          print(\"Profile not found\")\n",
        "    elif choice == '3':\n",
        "            # Get user input\n",
        "            destination = input(\"Enter your destination: \")\n",
        "            budget = float(input(\"Enter your budget: \"))\n",
        "            rating = float(input(\"Enter your preferred rating: \"))\n",
        "\n",
        "            # List of amenities to choose from\n",
        "            amenities_options = [\"pool\", \"fitness center\", \"free wifi\", \"restaurant\", \"bar\", \"spa\", \"free breakfast\"]\n",
        "\n",
        "            print(\"Choose your preferred amenities (separate by comma):\")\n",
        "            for amenity in amenities_options:\n",
        "                print(amenity)\n",
        "\n",
        "            amenities_choice = input(\"Enter your choice (e.g., pool, fitness center, free wifi, restaurant, bar, spa, free breakfast): \")\n",
        "            amenities = [i.strip() for i in amenities_choice.split(\",\")]\n",
        "\n",
        "            # Get recommendations\n",
        "            recommendations = get_recommendations(destination, budget, rating, amenities)\n",
        "\n",
        "            # Print recommendations\n",
        "            print(\"Recommendations:\")\n",
        "            print(recommendations)\n",
        "\n",
        "            # Counterfactual recommendations\n",
        "            what_if_budget_range = [budget * 1.2, budget * 2]  # 20% to 100% increase in budget\n",
        "            what_if_rating_range = [rating - 2, rating + 2]  # +- 2 rating\n",
        "\n",
        "            # Get counterfactual recommendations\n",
        "            counterfactual_recommendations = hotels[\n",
        "                (hotels['destination'] == destination) &\n",
        "                (hotels['price'] >= what_if_budget_range[0]) &\n",
        "                (hotels['price'] <= what_if_budget_range[1]) &\n",
        "                (hotels['rating'] >= what_if_rating_range[0]) &\n",
        "                (hotels['rating'] <= what_if_rating_range[1])\n",
        "            ]\n",
        "\n",
        "            print(\"\\nCounterfactual Recommendations (What-if scenarios):\")\n",
        "            print(counterfactual_recommendations)\n",
        "\n",
        "    elif choice == '4':\n",
        "        print(\"Exiting program. Goodbye!\")\n",
        "        break\n",
        "    else:\n",
        "        print(\"Invalid choice. Please try again.\")"
      ]
    }
  ],
  "metadata": {
    "colab": {
      "provenance": []
    },
    "kernelspec": {
      "display_name": "Python 3",
      "name": "python3"
    },
    "language_info": {
      "name": "python"
    }
  },
  "nbformat": 4,
  "nbformat_minor": 0
}